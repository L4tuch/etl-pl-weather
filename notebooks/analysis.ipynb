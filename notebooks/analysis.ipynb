{
 "cells": [
  {
   "cell_type": "code",
   "execution_count": 1,
   "id": "ed80b228",
   "metadata": {},
   "outputs": [],
   "source": [
    "# Basic setup: imports and SQLite connection\n",
    "import sqlite3\n",
    "import pandas as pd\n",
    "import matplotlib.pyplot as plt"
   ]
  },
  {
   "cell_type": "code",
   "execution_count": 2,
   "id": "c2790a93",
   "metadata": {},
   "outputs": [],
   "source": [
    "DB_PATH = \"../data/weather.db\"  # adjust if notebook sits elsewhere\n",
    "\n",
    "conn = sqlite3.connect(DB_PATH)\n",
    "pd.options.display.float_format = \"{:,.2f}\".format"
   ]
  },
  {
   "cell_type": "code",
   "execution_count": 5,
   "id": "4c2a76be",
   "metadata": {},
   "outputs": [
    {
     "data": {
      "text/plain": [
       "(   rows\n",
       " 0    32,\n",
       "   latest_date\n",
       " 0  2025-08-23)"
      ]
     },
     "execution_count": 5,
     "metadata": {},
     "output_type": "execute_result"
    }
   ],
   "source": [
    "row_count = pd.read_sql(\"SELECT COUNT(*) AS rows FROM weather_daily\", conn)\n",
    "latest = pd.read_sql(\"SELECT MAX(date) AS latest_date FROM weather_daily\", conn)\n",
    "\n",
    "row_count, latest"
   ]
  },
  {
   "cell_type": "markdown",
   "id": "5fd9db16",
   "metadata": {},
   "source": [
    "Snapshot for a single day (all regions)"
   ]
  },
  {
   "cell_type": "code",
   "execution_count": 4,
   "id": "be4248c4",
   "metadata": {},
   "outputs": [
    {
     "data": {
      "text/html": [
       "<div>\n",
       "<style scoped>\n",
       "    .dataframe tbody tr th:only-of-type {\n",
       "        vertical-align: middle;\n",
       "    }\n",
       "\n",
       "    .dataframe tbody tr th {\n",
       "        vertical-align: top;\n",
       "    }\n",
       "\n",
       "    .dataframe thead th {\n",
       "        text-align: right;\n",
       "    }\n",
       "</style>\n",
       "<table border=\"1\" class=\"dataframe\">\n",
       "  <thead>\n",
       "    <tr style=\"text-align: right;\">\n",
       "      <th></th>\n",
       "      <th>region</th>\n",
       "      <th>date</th>\n",
       "      <th>latitude</th>\n",
       "      <th>longitude</th>\n",
       "      <th>temperature_2m_max</th>\n",
       "      <th>temperature_2m_min</th>\n",
       "      <th>precipitation_sum</th>\n",
       "      <th>wind_speed_10m_max</th>\n",
       "    </tr>\n",
       "  </thead>\n",
       "  <tbody>\n",
       "    <tr>\n",
       "      <th>0</th>\n",
       "      <td>dolnoslaskie</td>\n",
       "      <td>2025-08-22</td>\n",
       "      <td>51.10</td>\n",
       "      <td>17.04</td>\n",
       "      <td>19.80</td>\n",
       "      <td>13.90</td>\n",
       "      <td>0.00</td>\n",
       "      <td>16.60</td>\n",
       "    </tr>\n",
       "    <tr>\n",
       "      <th>1</th>\n",
       "      <td>kujawsko_pomorskie</td>\n",
       "      <td>2025-08-22</td>\n",
       "      <td>53.12</td>\n",
       "      <td>18.00</td>\n",
       "      <td>19.90</td>\n",
       "      <td>12.50</td>\n",
       "      <td>0.00</td>\n",
       "      <td>21.50</td>\n",
       "    </tr>\n",
       "    <tr>\n",
       "      <th>2</th>\n",
       "      <td>lodzkie</td>\n",
       "      <td>2025-08-22</td>\n",
       "      <td>51.76</td>\n",
       "      <td>19.45</td>\n",
       "      <td>20.50</td>\n",
       "      <td>15.80</td>\n",
       "      <td>0.00</td>\n",
       "      <td>18.70</td>\n",
       "    </tr>\n",
       "    <tr>\n",
       "      <th>3</th>\n",
       "      <td>lubelskie</td>\n",
       "      <td>2025-08-22</td>\n",
       "      <td>51.24</td>\n",
       "      <td>22.55</td>\n",
       "      <td>23.70</td>\n",
       "      <td>16.40</td>\n",
       "      <td>0.00</td>\n",
       "      <td>21.20</td>\n",
       "    </tr>\n",
       "    <tr>\n",
       "      <th>4</th>\n",
       "      <td>lubuskie</td>\n",
       "      <td>2025-08-22</td>\n",
       "      <td>51.94</td>\n",
       "      <td>15.50</td>\n",
       "      <td>19.50</td>\n",
       "      <td>11.80</td>\n",
       "      <td>0.00</td>\n",
       "      <td>18.60</td>\n",
       "    </tr>\n",
       "  </tbody>\n",
       "</table>\n",
       "</div>"
      ],
      "text/plain": [
       "               region       date  latitude  longitude  temperature_2m_max  \\\n",
       "0        dolnoslaskie 2025-08-22     51.10      17.04               19.80   \n",
       "1  kujawsko_pomorskie 2025-08-22     53.12      18.00               19.90   \n",
       "2             lodzkie 2025-08-22     51.76      19.45               20.50   \n",
       "3           lubelskie 2025-08-22     51.24      22.55               23.70   \n",
       "4            lubuskie 2025-08-22     51.94      15.50               19.50   \n",
       "\n",
       "   temperature_2m_min  precipitation_sum  wind_speed_10m_max  \n",
       "0               13.90               0.00               16.60  \n",
       "1               12.50               0.00               21.50  \n",
       "2               15.80               0.00               18.70  \n",
       "3               16.40               0.00               21.20  \n",
       "4               11.80               0.00               18.60  "
      ]
     },
     "execution_count": 4,
     "metadata": {},
     "output_type": "execute_result"
    }
   ],
   "source": [
    "# Fetch one-day snapshot for all regions (replace date if needed)\n",
    "DATE = \"2025-08-22\"\n",
    "\n",
    "day_df = pd.read_sql(\n",
    "    \"\"\"\n",
    "    SELECT region, date, latitude, longitude,\n",
    "           temperature_2m_max, temperature_2m_min,\n",
    "           precipitation_sum, wind_speed_10m_max\n",
    "    FROM weather_daily\n",
    "    WHERE date = ?\n",
    "    ORDER BY region\n",
    "    \"\"\",\n",
    "    conn,\n",
    "    params=[DATE],\n",
    ")\n",
    "\n",
    "# Convert to proper dtypes\n",
    "day_df[\"date\"] = pd.to_datetime(day_df[\"date\"], errors=\"coerce\")\n",
    "\n",
    "day_df.head()\n"
   ]
  },
  {
   "cell_type": "markdown",
   "id": "db5d15b4",
   "metadata": {},
   "source": [
    "Bar chart – max temperature by region (that day):"
   ]
  },
  {
   "cell_type": "code",
   "execution_count": 6,
   "id": "fe8e733d",
   "metadata": {},
   "outputs": [
    {
     "data": {
      "text/plain": [
       "<Figure size 1200x500 with 0 Axes>"
      ]
     },
     "metadata": {},
     "output_type": "display_data"
    },
    {
     "data": {
      "image/png": "[encoded data removed]",
      "text/plain": [
       "<Figure size 640x480 with 1 Axes>"
      ]
     },
     "metadata": {},
     "output_type": "display_data"
    }
   ],
   "source": [
    "# Simple bar plot: max temperature by region for the selected date\n",
    "plt.figure(figsize=(12, 5))  # one chart per figure\n",
    "ax = day_df.sort_values(\"temperature_2m_max\", ascending=False) \\\n",
    "           .plot(kind=\"bar\", x=\"region\", y=\"temperature_2m_max\", legend=False)\n",
    "ax.set_title(f\"Max temperature by region on {DATE}\")\n",
    "ax.set_xlabel(\"Region\")\n",
    "ax.set_ylabel(\"°C\")\n",
    "plt.tight_layout()\n",
    "plt.show()"
   ]
  },
  {
   "cell_type": "markdown",
   "id": "f1572981",
   "metadata": {},
   "source": [
    "Trend for one region (last N days)"
   ]
  },
  {
   "cell_type": "code",
   "execution_count": 7,
   "id": "dd6d8e43",
   "metadata": {},
   "outputs": [
    {
     "data": {
      "image/png": "[encoded data removed]",
      "text/plain": [
       "<Figure size 1200x500 with 1 Axes>"
      ]
     },
     "metadata": {},
     "output_type": "display_data"
    }
   ],
   "source": [
    "# Time series for a single region (last N days)\n",
    "REGION = \"mazowieckie\"\n",
    "N_DAYS = 30\n",
    "\n",
    "trend_df = pd.read_sql(\n",
    "    \"\"\"\n",
    "    SELECT date,\n",
    "           temperature_2m_max, temperature_2m_min,\n",
    "           precipitation_sum, wind_speed_10m_max\n",
    "    FROM weather_daily\n",
    "    WHERE region = ?\n",
    "    ORDER BY date\n",
    "    \"\"\",\n",
    "    conn,\n",
    "    params=[REGION],\n",
    ")\n",
    "\n",
    "trend_df[\"date\"] = pd.to_datetime(trend_df[\"date\"], errors=\"coerce\")\n",
    "\n",
    "# Keep only last N days if you want\n",
    "trend_df = trend_df.tail(N_DAYS)\n",
    "\n",
    "# Line chart: max/min temperature over time\n",
    "plt.figure(figsize=(12, 5))\n",
    "plt.plot(trend_df[\"date\"], trend_df[\"temperature_2m_max\"], label=\"t_max\")\n",
    "plt.plot(trend_df[\"date\"], trend_df[\"temperature_2m_min\"], label=\"t_min\")\n",
    "plt.title(f\"Temperature trend – {REGION} (last {len(trend_df)} days)\")\n",
    "plt.xlabel(\"Date\")\n",
    "plt.ylabel(\"°C\")\n",
    "plt.legend()\n",
    "plt.tight_layout()\n",
    "plt.show()"
   ]
  },
  {
   "cell_type": "markdown",
   "id": "3c478be5",
   "metadata": {},
   "source": [
    "Ranking: top-5 warmest regions (by max temp) for a day"
   ]
  },
  {
   "cell_type": "code",
   "execution_count": 8,
   "id": "0332ab29",
   "metadata": {},
   "outputs": [
    {
     "data": {
      "text/html": [
       "<div>\n",
       "<style scoped>\n",
       "    .dataframe tbody tr th:only-of-type {\n",
       "        vertical-align: middle;\n",
       "    }\n",
       "\n",
       "    .dataframe tbody tr th {\n",
       "        vertical-align: top;\n",
       "    }\n",
       "\n",
       "    .dataframe thead th {\n",
       "        text-align: right;\n",
       "    }\n",
       "</style>\n",
       "<table border=\"1\" class=\"dataframe\">\n",
       "  <thead>\n",
       "    <tr style=\"text-align: right;\">\n",
       "      <th></th>\n",
       "      <th>region</th>\n",
       "      <th>date</th>\n",
       "      <th>temperature_2m_max</th>\n",
       "    </tr>\n",
       "  </thead>\n",
       "  <tbody>\n",
       "    <tr>\n",
       "      <th>0</th>\n",
       "      <td>lubelskie</td>\n",
       "      <td>2025-08-22</td>\n",
       "      <td>23.70</td>\n",
       "    </tr>\n",
       "    <tr>\n",
       "      <th>1</th>\n",
       "      <td>malopolskie</td>\n",
       "      <td>2025-08-22</td>\n",
       "      <td>23.60</td>\n",
       "    </tr>\n",
       "    <tr>\n",
       "      <th>2</th>\n",
       "      <td>podlaskie</td>\n",
       "      <td>2025-08-22</td>\n",
       "      <td>23.40</td>\n",
       "    </tr>\n",
       "    <tr>\n",
       "      <th>3</th>\n",
       "      <td>swietokrzyskie</td>\n",
       "      <td>2025-08-22</td>\n",
       "      <td>22.40</td>\n",
       "    </tr>\n",
       "    <tr>\n",
       "      <th>4</th>\n",
       "      <td>mazowieckie</td>\n",
       "      <td>2025-08-22</td>\n",
       "      <td>22.00</td>\n",
       "    </tr>\n",
       "  </tbody>\n",
       "</table>\n",
       "</div>"
      ],
      "text/plain": [
       "           region        date  temperature_2m_max\n",
       "0       lubelskie  2025-08-22               23.70\n",
       "1     malopolskie  2025-08-22               23.60\n",
       "2       podlaskie  2025-08-22               23.40\n",
       "3  swietokrzyskie  2025-08-22               22.40\n",
       "4     mazowieckie  2025-08-22               22.00"
      ]
     },
     "execution_count": 8,
     "metadata": {},
     "output_type": "execute_result"
    }
   ],
   "source": [
    "# Top-5 regions by max temperature for a given day\n",
    "rank_df = pd.read_sql(\n",
    "    \"\"\"\n",
    "    SELECT region, date, temperature_2m_max\n",
    "    FROM weather_daily\n",
    "    WHERE date = ?\n",
    "    ORDER BY temperature_2m_max DESC\n",
    "    LIMIT 5\n",
    "    \"\"\",\n",
    "    conn,\n",
    "    params=[DATE],\n",
    ")\n",
    "\n",
    "rank_df"
   ]
  },
  {
   "cell_type": "code",
   "execution_count": 9,
   "id": "da154f82",
   "metadata": {},
   "outputs": [],
   "source": [
    "# Close DB connection when you're done\n",
    "conn.close()"
   ]
  },
  {
   "cell_type": "code",
   "execution_count": null,
   "id": "5a558f5c",
   "metadata": {},
   "outputs": [],
   "source": []
  }
 ],
 "metadata": {
  "kernelspec": {
   "display_name": "base",
   "language": "python",
   "name": "python3"
  },
  "language_info": {
   "codemirror_mode": {
    "name": "ipython",
    "version": 3
   },
   "file_extension": ".py",
   "mimetype": "text/x-python",
   "name": "python",
   "nbconvert_exporter": "python",
   "pygments_lexer": "ipython3",
   "version": "3.13.5"
  }
 },
 "nbformat": 4,
 "nbformat_minor": 5
}
